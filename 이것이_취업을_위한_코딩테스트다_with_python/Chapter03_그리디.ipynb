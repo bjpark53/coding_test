{
 "cells": [
  {
   "cell_type": "markdown",
   "metadata": {},
   "source": [
    "# CHAPTER 03. 그리디"
   ]
  },
  {
   "cell_type": "markdown",
   "metadata": {},
   "source": [
    "## 예제 3-1 거스름돈"
   ]
  },
  {
   "cell_type": "markdown",
   "metadata": {},
   "source": [
    "### 대입 연산자\n",
    "1) a+=b : a=a+b  \n",
    "2) a-=b : a=a-b  \n",
    "3) a*=b : a=a*b  \n",
    "4) a/b : a=a/b (a를 b로 나눈 값)  \n",
    "5) a%=b : a=a%b (a를 b로 나눈 나머지)  \n",
    "6) a//=b : a=a//b (a를 b로 나눈 몫)"
   ]
  },
  {
   "cell_type": "code",
   "execution_count": 1,
   "metadata": {},
   "outputs": [
    {
     "name": "stdout",
     "output_type": "stream",
     "text": [
      "6\n"
     ]
    }
   ],
   "source": [
    "#내 풀이\n",
    "n = 1260\n",
    "exchanges = 0\n",
    "\n",
    "for coin in [500,100,50,10]:\n",
    "    n_exch = n//coin\n",
    "    exchanges += n_exch\n",
    "    n -= n_exch*coin\n",
    "\n",
    "print(exchanges)"
   ]
  },
  {
   "cell_type": "code",
   "execution_count": 2,
   "metadata": {},
   "outputs": [
    {
     "name": "stdout",
     "output_type": "stream",
     "text": [
      "6\n"
     ]
    }
   ],
   "source": [
    "#답안 예시 : 시간복잡도 = O(4)\n",
    "n = 1260\n",
    "count = 0\n",
    "\n",
    "coin_types = [500,100,50,10] # 큰 타입부터 확인\n",
    "\n",
    "for coin in coin_types:\n",
    "    count += n//coin\n",
    "    n %= coin\n",
    "    \n",
    "print(count)"
   ]
  },
  {
   "cell_type": "markdown",
   "metadata": {},
   "source": [
    "## 2. 큰 수의 법칙"
   ]
  },
  {
   "cell_type": "markdown",
   "metadata": {},
   "source": [
    "__data.sort() : 리스트를 작은 수부터 정렬한다. 원본 데이터가 정렬된 데이터로 대체된다.__  \n",
    "__data.sort() 자체는 어떤 객체도 생성하지 않기 때문에 이 뒤에 메서드 이어쓰지 않기!!!__"
   ]
  },
  {
   "cell_type": "code",
   "execution_count": 3,
   "metadata": {},
   "outputs": [
    {
     "name": "stdout",
     "output_type": "stream",
     "text": [
      "5 8 3\n",
      "2 4 5 4 6\n",
      "46\n"
     ]
    }
   ],
   "source": [
    "#내 풀이 : 그러나 M이 커지면 시간복잡도가 높아진다.\n",
    "n, m, k = map(int, input().split())\n",
    "n_list = list(map(int, input().split()))\n",
    "\n",
    "n_list.sort()\n",
    "max1 = n_list[n-1]\n",
    "max2 = n_list[n-2]\n",
    "\n",
    "i=1\n",
    "sum=0\n",
    "\n",
    "while i<=m:\n",
    "    if i%k==0:\n",
    "        sum+=max2\n",
    "    else:\n",
    "        sum+=max1\n",
    "    i+=1\n",
    "    \n",
    "print(sum)"
   ]
  },
  {
   "cell_type": "code",
   "execution_count": 4,
   "metadata": {},
   "outputs": [
    {
     "name": "stdout",
     "output_type": "stream",
     "text": [
      "5 8 3\n",
      "2 4 5 4 6\n",
      "46\n"
     ]
    }
   ],
   "source": [
    "# 시간복잡도를 개선한 내 풀이\n",
    "\n",
    "n, m, k = map(int, input().split())\n",
    "data = list(map(int, input().split()))\n",
    "\n",
    "data.sort()\n",
    "first = data[n-1]\n",
    "second = data[n-2]\n",
    "\n",
    "rep = m//k\n",
    "rest = m%k\n",
    "\n",
    "result = (first*(k-1) + second)*rep + first*rest\n",
    "\n",
    "print(result)"
   ]
  },
  {
   "cell_type": "markdown",
   "metadata": {},
   "source": [
    "## 3. 숫자 카드 게임"
   ]
  },
  {
   "cell_type": "markdown",
   "metadata": {},
   "source": [
    "__min(list) : 리스트 내의 원소 중 가장 작은 값을 반환__  \n",
    "__min(a,b,c,...) : 입력 값들중 가장 작은 값을 반환__\n"
   ]
  },
  {
   "cell_type": "code",
   "execution_count": 13,
   "metadata": {},
   "outputs": [
    {
     "name": "stdout",
     "output_type": "stream",
     "text": [
      "2 4\n",
      "7 3 1 8\n",
      "3 3 3 4\n",
      "3\n"
     ]
    }
   ],
   "source": [
    "# 내 풀이 \n",
    "n, m = map(int, input().split())\n",
    "mins = []\n",
    "\n",
    "for i in range(n):\n",
    "    data = list(map(int, input().split()))\n",
    "    data.sort()\n",
    "    mins.append(data[0])\n",
    "    \n",
    "mins.sort()\n",
    "result = mins[n-1]\n",
    "print(result)"
   ]
  },
  {
   "cell_type": "code",
   "execution_count": 15,
   "metadata": {},
   "outputs": [
    {
     "name": "stdout",
     "output_type": "stream",
     "text": [
      "2 4\n",
      "7 3 1 8\n",
      "3 3 3 4\n",
      "3\n"
     ]
    }
   ],
   "source": [
    "# min()을 활용하는 풀이\n",
    "n, m = map(int, input().split())\n",
    "result = 0\n",
    "\n",
    "for i in range(n):\n",
    "    data = list(map(int, input().split()))\n",
    "    min_value = min(data)\n",
    "    result = max(result, min_value)\n",
    "    \n",
    "print(result)"
   ]
  },
  {
   "cell_type": "markdown",
   "metadata": {},
   "source": [
    "## 4. 1이 될 때까지"
   ]
  },
  {
   "cell_type": "code",
   "execution_count": 20,
   "metadata": {},
   "outputs": [
    {
     "name": "stdout",
     "output_type": "stream",
     "text": [
      "100000 3\n",
      "19\n",
      "time : 0.0\n"
     ]
    }
   ],
   "source": [
    "# 내 풀이\n",
    "n, k = map(int, input().split())\n",
    "i = 0\n",
    "\n",
    "import time\n",
    "start_time = time.time() #시간 측정\n",
    "\n",
    "while n>1:\n",
    "    if n%k == 0:\n",
    "        n/=k\n",
    "    else:\n",
    "        n-=1\n",
    "    i+=1\n",
    "\n",
    "print(i)\n",
    "\n",
    "end_time = time.time() #측정 종료\n",
    "print(\"time :\", end_time-start_time)"
   ]
  },
  {
   "cell_type": "code",
   "execution_count": 24,
   "metadata": {},
   "outputs": [
    {
     "name": "stdout",
     "output_type": "stream",
     "text": [
      "25 5\n",
      "2\n"
     ]
    }
   ],
   "source": [
    "# 답안예시 - if를 최소화하기\n",
    "n, k = map(int, input().split())\n",
    "count=0\n",
    "\n",
    "while True:\n",
    "    target = (n//k)*k\n",
    "    count += (n-target)\n",
    "    n = target\n",
    "    if n<k:\n",
    "        break\n",
    "    count += 1\n",
    "    n//=k\n",
    "\n",
    "count += (n-1)\n",
    "        \n",
    "print(count)"
   ]
  }
 ],
 "metadata": {
  "kernelspec": {
   "display_name": "Python 3",
   "language": "python",
   "name": "python3"
  },
  "language_info": {
   "codemirror_mode": {
    "name": "ipython",
    "version": 3
   },
   "file_extension": ".py",
   "mimetype": "text/x-python",
   "name": "python",
   "nbconvert_exporter": "python",
   "pygments_lexer": "ipython3",
   "version": "3.7.3"
  }
 },
 "nbformat": 4,
 "nbformat_minor": 2
}
