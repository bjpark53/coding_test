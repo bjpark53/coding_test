{
 "cells": [
  {
   "cell_type": "markdown",
   "metadata": {},
   "source": [
    "# CodeUp 기초 100제(1076~1100)"
   ]
  },
  {
   "cell_type": "code",
   "execution_count": 15,
   "metadata": {},
   "outputs": [
    {
     "name": "stdout",
     "output_type": "stream",
     "text": [
      "f\n",
      "a b c d e f "
     ]
    }
   ],
   "source": [
    "#1076 : [기초-반복실행구조] 문자 1개 입력받아 알파벳 출력하기(설명)\n",
    "final = input()\n",
    "i = ord('a')\n",
    "while i <= ord(final):\n",
    "    print(chr(i), end = ' ')\n",
    "    i+=1"
   ]
  },
  {
   "cell_type": "markdown",
   "metadata": {},
   "source": [
    "__print(a, end=' ') : 줄 바꿈 없이 출력__"
   ]
  },
  {
   "cell_type": "code",
   "execution_count": 17,
   "metadata": {},
   "outputs": [
    {
     "name": "stdout",
     "output_type": "stream",
     "text": [
      "4\n",
      "0\n",
      "1\n",
      "2\n",
      "3\n",
      "4\n"
     ]
    }
   ],
   "source": [
    "#1077 : [기초-반복실행구조] 정수 1개 입력받아 그 수까지 출력하기(설명)\n",
    "n = int(input())\n",
    "i = 0\n",
    "while i <= n:\n",
    "    print(i)\n",
    "    i += 1"
   ]
  },
  {
   "cell_type": "code",
   "execution_count": 19,
   "metadata": {},
   "outputs": [
    {
     "name": "stdout",
     "output_type": "stream",
     "text": [
      "5\n",
      "6\n"
     ]
    }
   ],
   "source": [
    "#1078 : [기초-종합] 짝수 합 구하기(설명)\n",
    "n = int(input())\n",
    "i = 0\n",
    "sum = 0\n",
    "while i <= n :\n",
    "    if i%2==0:\n",
    "        sum += i\n",
    "    i += 1\n",
    "print(sum)"
   ]
  },
  {
   "cell_type": "code",
   "execution_count": 22,
   "metadata": {},
   "outputs": [
    {
     "name": "stdout",
     "output_type": "stream",
     "text": [
      "x b k d l q g a c\n",
      "x\n",
      "b\n",
      "k\n",
      "d\n",
      "l\n",
      "q\n"
     ]
    }
   ],
   "source": [
    "#1079 : [기초-종합] 원하는 문자가 입력될 때까지 반복 출력하기\n",
    "words = input().split()\n",
    "for a in words:\n",
    "    if a!='q':\n",
    "        print(a)\n",
    "    else:\n",
    "        print(a)\n",
    "        break"
   ]
  },
  {
   "cell_type": "code",
   "execution_count": 25,
   "metadata": {},
   "outputs": [
    {
     "name": "stdout",
     "output_type": "stream",
     "text": [
      "55\n",
      "10\n"
     ]
    }
   ],
   "source": [
    "#1080 : [기초-종합] 언제까지 더해야 할까?\n",
    "stop = int(input())\n",
    "n=1\n",
    "sum=0\n",
    "while sum<stop:\n",
    "    sum += n\n",
    "    n+=1\n",
    "print(n-1)"
   ]
  },
  {
   "cell_type": "code",
   "execution_count": 26,
   "metadata": {},
   "outputs": [
    {
     "name": "stdout",
     "output_type": "stream",
     "text": [
      "2 3\n",
      "1 1\n",
      "1 2\n",
      "1 3\n",
      "2 1\n",
      "2 2\n",
      "2 3\n"
     ]
    }
   ],
   "source": [
    "#1081 : [기초-종합] 주사위를 2개 던지면?(설명)\n",
    "n, m = map(int, input().split())\n",
    "for i in range(1,n+1):\n",
    "    for j in range(1, m+1):\n",
    "        print(i, j)"
   ]
  },
  {
   "cell_type": "code",
   "execution_count": 33,
   "metadata": {},
   "outputs": [
    {
     "name": "stdout",
     "output_type": "stream",
     "text": [
      "B\n",
      "B*1=B\n",
      "B*2=16\n",
      "B*3=21\n",
      "B*4=2C\n",
      "B*5=37\n",
      "B*6=42\n",
      "B*7=4D\n",
      "B*8=58\n",
      "B*9=63\n",
      "B*A=6E\n",
      "B*B=79\n",
      "B*C=84\n",
      "B*D=8F\n",
      "B*E=9A\n",
      "B*F=A5\n"
     ]
    }
   ],
   "source": [
    "#1082 : [기초-종합] 16진수 구구단?\n",
    "n = int(input(),16)\n",
    "for i in range(1, 16):\n",
    "    print('%X'%n,'*','%X'%i,'=','%X'%(n*i),sep='')"
   ]
  },
  {
   "cell_type": "code",
   "execution_count": 35,
   "metadata": {},
   "outputs": [
    {
     "name": "stdout",
     "output_type": "stream",
     "text": [
      "9\n",
      "1 2 X 4 5 X 7 8 X "
     ]
    }
   ],
   "source": [
    "#1083 : [기초-종합] 3 6 9 게임의 왕이 되자!(설명)\n",
    "n = int(input())\n",
    "for i in range(1,n+1):\n",
    "    if i not in [3,6,9]:\n",
    "        print(i, end=' ')\n",
    "    else:\n",
    "        print('X', end=' ')"
   ]
  },
  {
   "cell_type": "code",
   "execution_count": 36,
   "metadata": {},
   "outputs": [
    {
     "name": "stdout",
     "output_type": "stream",
     "text": [
      "2 2 2\n",
      "0 0 0\n",
      "0 0 1\n",
      "0 1 0\n",
      "0 1 1\n",
      "1 0 0\n",
      "1 0 1\n",
      "1 1 0\n",
      "1 1 1\n",
      "8\n"
     ]
    }
   ],
   "source": [
    "#1084 : [기초-종합] 빛 섞어 색 만들기(설명)\n",
    "r, g, b = map(int, input().split())\n",
    "rep = 0\n",
    "for i in range(r):\n",
    "    for j in range(g):\n",
    "        for k in range(b):\n",
    "            print(i, j, k)\n",
    "            rep+=1\n",
    "print(rep)"
   ]
  },
  {
   "cell_type": "code",
   "execution_count": 38,
   "metadata": {},
   "outputs": [
    {
     "name": "stdout",
     "output_type": "stream",
     "text": [
      "44100 16 2 10\n",
      "1.7 MB\n"
     ]
    }
   ],
   "source": [
    "#1085 : [기초-종합] 소리 파일 저장용량 계산하기(설명)\n",
    "h, b, c, s = map(int, input().split())\n",
    "y = h*b*c*s/(8*1024*1024)\n",
    "print('%.1f'%y, 'MB')"
   ]
  },
  {
   "cell_type": "code",
   "execution_count": 42,
   "metadata": {},
   "outputs": [
    {
     "name": "stdout",
     "output_type": "stream",
     "text": [
      "1024 768 24\n",
      "2.25 MB\n"
     ]
    }
   ],
   "source": [
    "#1086 : [기초-종합] 그림 파일 저장용량 계산하기(설명)\n",
    "w, h, b = map(int, input().split())\n",
    "y=w*h*b/(8*1024*1024)\n",
    "print('%.2f'%y,'MB')"
   ]
  },
  {
   "cell_type": "code",
   "execution_count": 43,
   "metadata": {},
   "outputs": [
    {
     "name": "stdout",
     "output_type": "stream",
     "text": [
      "57\n",
      "66\n"
     ]
    }
   ],
   "source": [
    "#1087 : [기초-종합] 여기까지! 이제 그만~(설명)\n",
    "n = int(input())\n",
    "i=1\n",
    "sum=0\n",
    "while sum<n:\n",
    "    sum+=i\n",
    "    i+=1\n",
    "print(sum)"
   ]
  },
  {
   "cell_type": "code",
   "execution_count": 45,
   "metadata": {},
   "outputs": [
    {
     "name": "stdout",
     "output_type": "stream",
     "text": [
      "10\n",
      "1 2 4 5 7 8 10 "
     ]
    }
   ],
   "source": [
    "#1088 : [기초-종합] 3의 배수는 통과?(설명)\n",
    "n = int(input())\n",
    "for i in range(1,n+1):\n",
    "    if i%3!=0:\n",
    "        print(i, end=' ')"
   ]
  },
  {
   "cell_type": "code",
   "execution_count": 46,
   "metadata": {},
   "outputs": [
    {
     "name": "stdout",
     "output_type": "stream",
     "text": [
      "1 3 5\n",
      "13\n"
     ]
    }
   ],
   "source": [
    "#1089 : [기초-종합] 수 나열하기1\n",
    "a, d, n = map(int, input().split())\n",
    "y=a\n",
    "for i in range(n-1):\n",
    "    y+=d\n",
    "print(y)"
   ]
  },
  {
   "cell_type": "code",
   "execution_count": 47,
   "metadata": {},
   "outputs": [
    {
     "name": "stdout",
     "output_type": "stream",
     "text": [
      "2 3 7\n",
      "1458\n"
     ]
    }
   ],
   "source": [
    "#1090 : [기초-종합] 수 나열하기2\n",
    "a, r, n = map(int, input().split())\n",
    "y=a\n",
    "for i in range(n-1):\n",
    "    y*=r\n",
    "print(y)"
   ]
  },
  {
   "cell_type": "code",
   "execution_count": 48,
   "metadata": {},
   "outputs": [
    {
     "name": "stdout",
     "output_type": "stream",
     "text": [
      "1 -2 1 8\n",
      "-85\n"
     ]
    }
   ],
   "source": [
    "#1090 : [기초-종합] 수 나열하기3\n",
    "a, m, d, n = map(int, input().split())\n",
    "y=a\n",
    "for i in range(n-1):\n",
    "    y=y*m+d\n",
    "print(y)"
   ]
  },
  {
   "cell_type": "code",
   "execution_count": 52,
   "metadata": {},
   "outputs": [
    {
     "name": "stdout",
     "output_type": "stream",
     "text": [
      "3 7 9\n",
      "63\n"
     ]
    }
   ],
   "source": [
    "#1092 : [기초-종합] 함께 문제 푸는 날(설명) - 세 수의 최소공배수 찾기\n",
    "a, b, c = map(int, input().split())\n",
    "x = 1\n",
    "while not (x%a==0 and x%b==0 and x%c==0):\n",
    "    x+=1\n",
    "print(x)"
   ]
  },
  {
   "cell_type": "code",
   "execution_count": 57,
   "metadata": {},
   "outputs": [
    {
     "name": "stdout",
     "output_type": "stream",
     "text": [
      "10\n",
      "1 3 2 2 5 6 7 4 5 9\n",
      "1 2 1 1 2 1 1 0 1 0 0 0 0 0 0 0 0 0 0 0 0 0 0 "
     ]
    }
   ],
   "source": [
    "#1093 : [기초-1차원배열] 이상한 출석 번호 부르기1(설명)\n",
    "n = int(input())\n",
    "nums = list(map(int, input().split()))\n",
    "sums = [0]*23\n",
    "for i in range(n):\n",
    "    idx=nums[i]-1\n",
    "    sums[idx] += 1\n",
    "for x in sums:\n",
    "    print(x, end=' ')"
   ]
  },
  {
   "cell_type": "code",
   "execution_count": 58,
   "metadata": {},
   "outputs": [
    {
     "name": "stdout",
     "output_type": "stream",
     "text": [
      "10\n",
      "10 4 2 3 6 6 7 9 8 5\n",
      "5 8 9 7 6 6 3 2 4 10 "
     ]
    }
   ],
   "source": [
    "#1094 : [기초-1차원배열] 이상한 출석 번호 부르기2(설명)\n",
    "n = int(input())\n",
    "nums = list(map(int, input().split()))\n",
    "i = n-1\n",
    "while i>=0:\n",
    "    print(nums[i], end=' ')\n",
    "    i-=1"
   ]
  },
  {
   "cell_type": "code",
   "execution_count": 63,
   "metadata": {},
   "outputs": [
    {
     "name": "stdout",
     "output_type": "stream",
     "text": [
      "10\n",
      "10 4 2 3 6 6 7 9 8 5\n",
      "2\n"
     ]
    }
   ],
   "source": [
    "#1095 : [기초-1차원배열] 이상한 출석 번호 부르기3(설명)\n",
    "n = int(input())\n",
    "nums = list(map(int, input().split()))\n",
    "m = nums[0]\n",
    "for i in range(n):\n",
    "    if nums[i]<m:\n",
    "        m = nums[i]\n",
    "print(m)"
   ]
  },
  {
   "cell_type": "code",
   "execution_count": 90,
   "metadata": {},
   "outputs": [
    {
     "name": "stdout",
     "output_type": "stream",
     "text": [
      "5\n",
      "1 1\n",
      "2 2\n",
      "3 3\n",
      "4 4\n",
      "5 5\n",
      "1 0 0 0 0 0 0 0 0 0 0 0 0 0 0 0 0 0 0\n",
      "0 1 0 0 0 0 0 0 0 0 0 0 0 0 0 0 0 0 0\n",
      "0 0 1 0 0 0 0 0 0 0 0 0 0 0 0 0 0 0 0\n",
      "0 0 0 1 0 0 0 0 0 0 0 0 0 0 0 0 0 0 0\n",
      "0 0 0 0 1 0 0 0 0 0 0 0 0 0 0 0 0 0 0\n",
      "0 0 0 0 0 0 0 0 0 0 0 0 0 0 0 0 0 0 0\n",
      "0 0 0 0 0 0 0 0 0 0 0 0 0 0 0 0 0 0 0\n",
      "0 0 0 0 0 0 0 0 0 0 0 0 0 0 0 0 0 0 0\n",
      "0 0 0 0 0 0 0 0 0 0 0 0 0 0 0 0 0 0 0\n",
      "0 0 0 0 0 0 0 0 0 0 0 0 0 0 0 0 0 0 0\n",
      "0 0 0 0 0 0 0 0 0 0 0 0 0 0 0 0 0 0 0\n",
      "0 0 0 0 0 0 0 0 0 0 0 0 0 0 0 0 0 0 0\n",
      "0 0 0 0 0 0 0 0 0 0 0 0 0 0 0 0 0 0 0\n",
      "0 0 0 0 0 0 0 0 0 0 0 0 0 0 0 0 0 0 0\n",
      "0 0 0 0 0 0 0 0 0 0 0 0 0 0 0 0 0 0 0\n",
      "0 0 0 0 0 0 0 0 0 0 0 0 0 0 0 0 0 0 0\n",
      "0 0 0 0 0 0 0 0 0 0 0 0 0 0 0 0 0 0 0\n",
      "0 0 0 0 0 0 0 0 0 0 0 0 0 0 0 0 0 0 0\n",
      "0 0 0 0 0 0 0 0 0 0 0 0 0 0 0 0 0 0 0\n"
     ]
    }
   ],
   "source": [
    "#1096 : [기초-2차원배열] 바둑판에 흰 돌 놓기(설명)\n",
    "board=[[0 for i in range(19)] for j in range(19)]\n",
    "n = int(input())\n",
    "\n",
    "for i in range(n):\n",
    "    x, y = map(int, input().split())\n",
    "    board[x-1][y-1] = 1\n",
    "\n",
    "for i in range(19):\n",
    "    for j in range(19):\n",
    "        if j!=18:\n",
    "            print(board[i][j], end=' ')\n",
    "        else:\n",
    "            print(board[i][j])"
   ]
  },
  {
   "cell_type": "code",
   "execution_count": 102,
   "metadata": {},
   "outputs": [
    {
     "name": "stdout",
     "output_type": "stream",
     "text": [
      "0 0 0 0 0 0 0 0 0 1 0 1 0 0 0 0 0 0 0\n",
      "0 0 0 0 0 0 0 0 0 1 0 1 0 0 0 0 0 0 0\n",
      "0 0 0 0 0 0 0 0 0 1 0 1 0 0 0 0 0 0 0\n",
      "0 0 0 0 0 0 0 0 0 1 0 1 0 0 0 0 0 0 0\n",
      "0 0 0 0 0 0 0 0 0 1 0 1 0 0 0 0 0 0 0\n",
      "0 0 0 0 0 0 0 0 0 1 0 1 0 0 0 0 0 0 0\n",
      "0 0 0 0 0 0 0 0 0 1 0 1 0 0 0 0 0 0 0\n",
      "0 0 0 0 0 0 0 0 0 1 0 1 0 0 0 0 0 0 0\n",
      "0 0 0 0 0 0 0 0 0 1 0 1 0 0 0 0 0 0 0\n",
      "1 1 1 1 1 1 1 1 1 1 1 1 1 1 1 1 1 1 1\n",
      "0 0 0 0 0 0 0 0 0 1 0 1 0 0 0 0 0 0 0\n",
      "1 1 1 1 1 1 1 1 1 1 1 1 1 1 1 1 1 1 1\n",
      "0 0 0 0 0 0 0 0 0 1 0 1 0 0 0 0 0 0 0\n",
      "0 0 0 0 0 0 0 0 0 1 0 1 0 0 0 0 0 0 0\n",
      "0 0 0 0 0 0 0 0 0 1 0 1 0 0 0 0 0 0 0\n",
      "0 0 0 0 0 0 0 0 0 1 0 1 0 0 0 0 0 0 0\n",
      "0 0 0 0 0 0 0 0 0 1 0 1 0 0 0 0 0 0 0\n",
      "0 0 0 0 0 0 0 0 0 1 0 1 0 0 0 0 0 0 0\n",
      "0 0 0 0 0 0 0 0 0 1 0 1 0 0 0 0 0 0 0\n",
      "2\n",
      "10 10\n",
      "12 12\n",
      "0 0 0 0 0 0 0 0 0 0 0 0 0 0 0 0 0 0 0\n",
      "0 0 0 0 0 0 0 0 0 0 0 0 0 0 0 0 0 0 0\n",
      "0 0 0 0 0 0 0 0 0 0 0 0 0 0 0 0 0 0 0\n",
      "0 0 0 0 0 0 0 0 0 0 0 0 0 0 0 0 0 0 0\n",
      "0 0 0 0 0 0 0 0 0 0 0 0 0 0 0 0 0 0 0\n",
      "0 0 0 0 0 0 0 0 0 0 0 0 0 0 0 0 0 0 0\n",
      "0 0 0 0 0 0 0 0 0 0 0 0 0 0 0 0 0 0 0\n",
      "0 0 0 0 0 0 0 0 0 0 0 0 0 0 0 0 0 0 0\n",
      "0 0 0 0 0 0 0 0 0 0 0 0 0 0 0 0 0 0 0\n",
      "0 0 0 0 0 0 0 0 0 1 0 1 0 0 0 0 0 0 0\n",
      "0 0 0 0 0 0 0 0 0 0 0 0 0 0 0 0 0 0 0\n",
      "0 0 0 0 0 0 0 0 0 1 0 1 0 0 0 0 0 0 0\n",
      "0 0 0 0 0 0 0 0 0 0 0 0 0 0 0 0 0 0 0\n",
      "0 0 0 0 0 0 0 0 0 0 0 0 0 0 0 0 0 0 0\n",
      "0 0 0 0 0 0 0 0 0 0 0 0 0 0 0 0 0 0 0\n",
      "0 0 0 0 0 0 0 0 0 0 0 0 0 0 0 0 0 0 0\n",
      "0 0 0 0 0 0 0 0 0 0 0 0 0 0 0 0 0 0 0\n",
      "0 0 0 0 0 0 0 0 0 0 0 0 0 0 0 0 0 0 0\n",
      "0 0 0 0 0 0 0 0 0 0 0 0 0 0 0 0 0 0 0\n"
     ]
    }
   ],
   "source": [
    "#1097 : [기초-2차원배열] 바둑알 십자 뒤집기(설명)\n",
    "board=[]\n",
    "for i in range(19):\n",
    "    board.append([int(x) for x in input().split()])\n",
    "\n",
    "n = int(input())\n",
    "for i in range(n):\n",
    "    x, y = map(int, input().split())\n",
    "    for a in range(19):\n",
    "        board[x-1][a]=int(not board[x-1][a])\n",
    "    for b in range(19):\n",
    "        board[b][y-1]=int(not board[b][y-1])\n",
    "        \n",
    "for i in range(19):\n",
    "    for j in range(19):\n",
    "        if j!=18:\n",
    "            print(board[i][j], end=' ')\n",
    "        else:\n",
    "            print(board[i][j])"
   ]
  },
  {
   "cell_type": "code",
   "execution_count": 111,
   "metadata": {},
   "outputs": [
    {
     "name": "stdout",
     "output_type": "stream",
     "text": [
      "5 5\n",
      "3\n",
      "2 0 1 1\n",
      "3 1 2 3\n",
      "4 1 2 5\n",
      "1 1 0 0 0\n",
      "0 0 1 0 1\n",
      "0 0 1 0 1\n",
      "0 0 1 0 1\n",
      "0 0 0 0 1\n"
     ]
    }
   ],
   "source": [
    "#1098 : [기초-2차원배열] 설탕과자 뽑기\n",
    "h, w = map(int, input().split())\n",
    "board = [[0 for i in range(w)] for j in range(h)]\n",
    "\n",
    "n = int(input())\n",
    "for i in range(n):\n",
    "    l, d, x, y = map(int, input().split())\n",
    "    if d==1:\n",
    "        for k in range(l):\n",
    "            board[x-1+k][y-1]=1\n",
    "    elif d==0:\n",
    "        for k in range(l):\n",
    "            board[x-1][y-1+k]=1\n",
    "\n",
    "for i in range(h):\n",
    "    for j in range(w):\n",
    "        if j!=w-1:\n",
    "            print(board[i][j], end=' ')\n",
    "        else:\n",
    "            print(board[i][j])"
   ]
  },
  {
   "cell_type": "code",
   "execution_count": null,
   "metadata": {},
   "outputs": [],
   "source": []
  },
  {
   "cell_type": "code",
   "execution_count": null,
   "metadata": {},
   "outputs": [],
   "source": []
  }
 ],
 "metadata": {
  "kernelspec": {
   "display_name": "Python 3",
   "language": "python",
   "name": "python3"
  },
  "language_info": {
   "codemirror_mode": {
    "name": "ipython",
    "version": 3
   },
   "file_extension": ".py",
   "mimetype": "text/x-python",
   "name": "python",
   "nbconvert_exporter": "python",
   "pygments_lexer": "ipython3",
   "version": "3.7.3"
  }
 },
 "nbformat": 4,
 "nbformat_minor": 2
}
