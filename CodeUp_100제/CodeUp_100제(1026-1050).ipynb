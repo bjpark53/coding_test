{
 "cells": [
  {
   "cell_type": "markdown",
   "metadata": {},
   "source": [
    "# CodeUp 기초 100제(1026~1050)"
   ]
  },
  {
   "cell_type": "code",
   "execution_count": 2,
   "metadata": {},
   "outputs": [
    {
     "name": "stdout",
     "output_type": "stream",
     "text": [
      "6:00:00\n",
      "0\n"
     ]
    }
   ],
   "source": [
    "#1026 : [기초-입출력] 시분초 입력받아 분만 출력하기(설명)\n",
    "h,m,s = map(int,input().split(':'))\n",
    "print(m)"
   ]
  },
  {
   "cell_type": "code",
   "execution_count": 3,
   "metadata": {},
   "outputs": [
    {
     "name": "stdout",
     "output_type": "stream",
     "text": [
      "2014.07.15\n",
      "15-07-2014\n"
     ]
    }
   ],
   "source": [
    "#1027 : [기초-입출력] 년월일 입력 받아 형식 바꿔 출력하기(설명)\n",
    "y,m,d = map(int, input().split('.'))\n",
    "yyyy = '%04d'%y\n",
    "mm = '%02d'%m\n",
    "dd = '%02d'%d\n",
    "print(dd+'-'+mm+'-'+yyyy)"
   ]
  },
  {
   "cell_type": "markdown",
   "metadata": {},
   "source": [
    "__참고__  \n",
    "출력하는 자리수를 지정하기 위해 %4d와 같은 형식을 사용할 수 있는데,  \n",
    "빈칸을 0으로 출력하기 위해서는 %04d와 같은 형식을 사용하면 된다."
   ]
  },
  {
   "cell_type": "code",
   "execution_count": null,
   "metadata": {},
   "outputs": [],
   "source": []
  },
  {
   "cell_type": "code",
   "execution_count": 4,
   "metadata": {},
   "outputs": [
    {
     "name": "stdout",
     "output_type": "stream",
     "text": [
      "2147483648\n",
      "2147483648\n"
     ]
    }
   ],
   "source": [
    "#1028 : [기초-데이터형] 정수 1개 입력받아 그대로 출력하기2(설명)\n",
    "a = int(input())\n",
    "print(a)"
   ]
  },
  {
   "cell_type": "markdown",
   "metadata": {},
   "source": [
    "파이썬 숫자형(정수형, 실수형)에는 오버플로우가 없다!  \n",
    "* 오버플로우(overflow) : 값이 자료형의 표현 가능한 범위를 벗어나는 경우"
   ]
  },
  {
   "cell_type": "code",
   "execution_count": 6,
   "metadata": {},
   "outputs": [
    {
     "name": "stdout",
     "output_type": "stream",
     "text": [
      "3.14159265359\n",
      "3.14159265359\n"
     ]
    }
   ],
   "source": [
    "#1029 : [기초-데이터형] 실수 1개 입력받아 그대로 출력하기2(설명)\n",
    "a = float(input())\n",
    "print('%0.11f'%a)"
   ]
  },
  {
   "cell_type": "code",
   "execution_count": 10,
   "metadata": {},
   "outputs": [
    {
     "name": "stdout",
     "output_type": "stream",
     "text": [
      "-2147483649\n",
      "-2147483649\n"
     ]
    }
   ],
   "source": [
    "#1030 : [기초-데이터형] 정수 1개 입력받아 그대로 출력하기3(설명)\n",
    "a = int(input())\n",
    "print(a)"
   ]
  },
  {
   "cell_type": "markdown",
   "metadata": {},
   "source": [
    "__10진수를 8진수, 16진수로 출력__\n",
    "* '%o' : 8진수로 출력\n",
    "* '%x' : 16진수(소문자)로 출력\n",
    "* '%X' : 16진수(대문자)로 출력"
   ]
  },
  {
   "cell_type": "code",
   "execution_count": 13,
   "metadata": {},
   "outputs": [
    {
     "name": "stdout",
     "output_type": "stream",
     "text": [
      "10\n",
      "12\n"
     ]
    }
   ],
   "source": [
    "#1031 : [기초-출력변환] 10진 정수 1개 입력받아 8진수로 출력하기(설명)\n",
    "a = int(input())\n",
    "print('%o'%a)"
   ]
  },
  {
   "cell_type": "code",
   "execution_count": 14,
   "metadata": {},
   "outputs": [
    {
     "name": "stdout",
     "output_type": "stream",
     "text": [
      "255\n",
      "ff\n"
     ]
    }
   ],
   "source": [
    "#1032 : [기초-출력변환] 10진 정수 입력받아 16진수로 출력하기1(설명)\n",
    "a = int(input())\n",
    "print('%x'%a)"
   ]
  },
  {
   "cell_type": "code",
   "execution_count": 15,
   "metadata": {},
   "outputs": [
    {
     "name": "stdout",
     "output_type": "stream",
     "text": [
      "255\n",
      "FF\n"
     ]
    }
   ],
   "source": [
    "#1033 : [기초-출력변환] 10진 정수 입력받아 16진수로 출력하기2(설명)\n",
    "a = int(input())\n",
    "print('%X'%a)"
   ]
  },
  {
   "cell_type": "markdown",
   "metadata": {},
   "source": [
    "__8진수, 16진수 다루기__  \n",
    "* int(숫자, 진수(base))  \n",
    "ex)int(16,16) : 16이 16진법으로 표현된 숫자이다.\n",
    "* 접두어 붙이기  \n",
    "2진수 : 0b (binary)  \n",
    "8진수 : 0o (octal)  \n",
    "16진수 : 0x (hexadecimal)  "
   ]
  },
  {
   "cell_type": "code",
   "execution_count": 18,
   "metadata": {},
   "outputs": [
    {
     "name": "stdout",
     "output_type": "stream",
     "text": [
      "13\n",
      "11\n"
     ]
    }
   ],
   "source": [
    "#1034 : [기초-출력변환] 8진 정수 1개 입력받아 10진수로 출력하기(설명)\n",
    "n = int(input(),8)\n",
    "print(n)"
   ]
  },
  {
   "cell_type": "markdown",
   "metadata": {},
   "source": [
    "8진법으로 표현된 n을 print하면 10진법으로 바뀌어 출력된다."
   ]
  },
  {
   "cell_type": "code",
   "execution_count": 21,
   "metadata": {},
   "outputs": [
    {
     "name": "stdout",
     "output_type": "stream",
     "text": [
      "f\n",
      "17\n"
     ]
    }
   ],
   "source": [
    "#1035 : [기초-출력변환] 16진 정수 1개 입력받아 8진수로 출력하기(설명)\n",
    "n = int(input(),16)\n",
    "print('%o'%n)"
   ]
  },
  {
   "cell_type": "markdown",
   "metadata": {},
   "source": [
    "__아스키 코드 <-> 문자__\n",
    "* ord(문자) : 문자 -> 아스키 코드\n",
    "* chr(숫자) : 숫자(아스키 코드) -> 문자"
   ]
  },
  {
   "cell_type": "code",
   "execution_count": 23,
   "metadata": {},
   "outputs": [
    {
     "name": "stdout",
     "output_type": "stream",
     "text": [
      "A\n",
      "65\n"
     ]
    }
   ],
   "source": [
    "#1036 : [기초-출력변환] 영문자 1개 입력받아 10진수로 출력하기(설명)\n",
    "a = input()\n",
    "print(ord(a))"
   ]
  },
  {
   "cell_type": "code",
   "execution_count": 24,
   "metadata": {},
   "outputs": [
    {
     "name": "stdout",
     "output_type": "stream",
     "text": [
      "65\n",
      "A\n"
     ]
    }
   ],
   "source": [
    "#1037 : [기초-출력변환] 정수 입력받아 아스키 문자로 출력하기\n",
    "n = int(input())\n",
    "print(chr(n))"
   ]
  },
  {
   "cell_type": "code",
   "execution_count": 25,
   "metadata": {},
   "outputs": [
    {
     "name": "stdout",
     "output_type": "stream",
     "text": [
      "123 -123\n",
      "0\n"
     ]
    }
   ],
   "source": [
    "#1038 : [기초-산술연산] 정수 2개 입력받아 합 출력하기1(설명)\n",
    "a, b = map(int,input().split())\n",
    "sum = a+b\n",
    "print(sum)"
   ]
  },
  {
   "cell_type": "code",
   "execution_count": 30,
   "metadata": {},
   "outputs": [
    {
     "name": "stdout",
     "output_type": "stream",
     "text": [
      "2147483648 2147483648\n",
      "4294967296\n"
     ]
    }
   ],
   "source": [
    "#1039 : [기초-산술연산] 정수 2개 입력받아 합 출력하기2(설명)\n",
    "a, b = map(int,input().split())\n",
    "sum = a+b\n",
    "print(sum)"
   ]
  },
  {
   "cell_type": "code",
   "execution_count": 32,
   "metadata": {},
   "outputs": [
    {
     "name": "stdout",
     "output_type": "stream",
     "text": [
      "-1\n",
      "1\n"
     ]
    }
   ],
   "source": [
    "#1040 : [기초-산술연산] 정수 1개 입력받아 부호 바꿔 출력하기(설명)\n",
    "n = int(input())\n",
    "print(-n)"
   ]
  },
  {
   "cell_type": "code",
   "execution_count": 33,
   "metadata": {},
   "outputs": [
    {
     "name": "stdout",
     "output_type": "stream",
     "text": [
      "a\n",
      "b\n"
     ]
    }
   ],
   "source": [
    "#1041 : [기초-산술연산] 문자 1개 입력받아 다음 문자 출력하기(설명)\n",
    "a = input()\n",
    "print(chr(ord(a)+1))"
   ]
  },
  {
   "cell_type": "markdown",
   "metadata": {},
   "source": [
    "__몫과 나머지, 나눈 값 구하기__  \n",
    "* a//b : a를 b로 나눈 몫\n",
    "* a%b : a를 b로 나눈 나머지\n",
    "* a/b : a를 b로 나눈 값"
   ]
  },
  {
   "cell_type": "code",
   "execution_count": 34,
   "metadata": {},
   "outputs": [
    {
     "name": "stdout",
     "output_type": "stream",
     "text": [
      "1 3\n",
      "0\n"
     ]
    }
   ],
   "source": [
    "#1042 : [기초-산술연산] 정수 2개 입력받아 나눈 몫 출력하기(설명)\n",
    "a, b = map(int,input().split())\n",
    "print(a//b)"
   ]
  },
  {
   "cell_type": "code",
   "execution_count": 35,
   "metadata": {},
   "outputs": [
    {
     "name": "stdout",
     "output_type": "stream",
     "text": [
      "10 3\n",
      "1\n"
     ]
    }
   ],
   "source": [
    "#1043 : [기초-산술연산] 정수 2개 입력받아 나눈 나머지 출력하기(설명)\n",
    "a, b = map(int, input().split())\n",
    "print(a%b)"
   ]
  },
  {
   "cell_type": "code",
   "execution_count": 36,
   "metadata": {},
   "outputs": [
    {
     "name": "stdout",
     "output_type": "stream",
     "text": [
      "2147483647\n",
      "2147483648\n"
     ]
    }
   ],
   "source": [
    "#1044 : [기초-산술연산] 정수 1개 입력받아 1 더해 출력하기(설명)\n",
    "n = int(input())\n",
    "print(n+1)"
   ]
  },
  {
   "cell_type": "code",
   "execution_count": 43,
   "metadata": {},
   "outputs": [
    {
     "name": "stdout",
     "output_type": "stream",
     "text": [
      "10 3\n",
      "13 7 30 3 1 3.33\n"
     ]
    }
   ],
   "source": [
    "#1045 : [기초-산술연산] 정수 2개 입력받아 자동 계산하기\n",
    "a, b = map(int, input().split())\n",
    "c = a/b\n",
    "print(a+b,a-b,a*b,a//b,a%b,'%.2f'%c)"
   ]
  },
  {
   "cell_type": "code",
   "execution_count": 44,
   "metadata": {},
   "outputs": [
    {
     "name": "stdout",
     "output_type": "stream",
     "text": [
      "1 2 3\n",
      "6\n",
      "2.0\n"
     ]
    }
   ],
   "source": [
    "#1046 : [기초-산술연산] 정수 3개 입력받아 합과 평균 출력하기\n",
    "a, b, c = map(int, input().split())\n",
    "my_sum = a+b+c\n",
    "mean = my_sum/3\n",
    "print(my_sum,'%.1f'%mean,sep='\\n')"
   ]
  },
  {
   "cell_type": "markdown",
   "metadata": {},
   "source": [
    "__비트 연산__  \n",
    "비트 연산은 비트(bit) 단위하는 연산이다.(2진법)  \n",
    "* __<<__ : 지정된 수 만큼 각 비트를 왼쪽으로 옮긴다.  \n",
    "2를 곱하는 효과가 있다.\n",
    "ex) 11 -> 110 : 십진수로 3 -> 6  \n",
    "* __>>__ : 지정된 수 만큼 각 비트를 오른쪽으로 옮긴다.  \n",
    "2로 나누는 효과가 있다.  \n",
    "ex) 100 -> 10 : 십진수로 4 -> 2  \n",
    "* __비트 쉬프트 연산은 곱하기, 나누기보다 빠르다__\n"
   ]
  },
  {
   "cell_type": "code",
   "execution_count": 45,
   "metadata": {},
   "outputs": [
    {
     "name": "stdout",
     "output_type": "stream",
     "text": [
      "1024\n",
      "2048\n"
     ]
    }
   ],
   "source": [
    "#1047 : [기초-비트시프트연산] 정수 1개 입력받아 2배 곱해 출력하기(설명)\n",
    "n = int(input())\n",
    "print(n<<1)"
   ]
  },
  {
   "cell_type": "code",
   "execution_count": 46,
   "metadata": {},
   "outputs": [
    {
     "name": "stdout",
     "output_type": "stream",
     "text": [
      "1 3\n",
      "8\n"
     ]
    }
   ],
   "source": [
    "#1048 : [기초-비트시프트연산] 한 번에 2의 거듭제곱 배로 출력하기(설명)\n",
    "a, b = map(int, input().split())\n",
    "print(a<<b)"
   ]
  },
  {
   "cell_type": "code",
   "execution_count": 47,
   "metadata": {},
   "outputs": [
    {
     "name": "stdout",
     "output_type": "stream",
     "text": [
      "9 1\n",
      "1\n"
     ]
    }
   ],
   "source": [
    "#1049 : [기초-비교연산] 두 정수 입력받아 비교하기1(설명)\n",
    "a, b = map(int, input().split())\n",
    "print(int(a>b))"
   ]
  },
  {
   "cell_type": "code",
   "execution_count": 48,
   "metadata": {},
   "outputs": [
    {
     "name": "stdout",
     "output_type": "stream",
     "text": [
      "0 0\n",
      "1\n"
     ]
    }
   ],
   "source": [
    "#1050 : [기초-비교연산] 두 정수 입력받아 비교하기2(설명)\n",
    "a, b = map(int, input().split())\n",
    "print(int(a==b))"
   ]
  }
 ],
 "metadata": {
  "kernelspec": {
   "display_name": "Python 3",
   "language": "python",
   "name": "python3"
  },
  "language_info": {
   "codemirror_mode": {
    "name": "ipython",
    "version": 3
   },
   "file_extension": ".py",
   "mimetype": "text/x-python",
   "name": "python",
   "nbconvert_exporter": "python",
   "pygments_lexer": "ipython3",
   "version": "3.7.3"
  }
 },
 "nbformat": 4,
 "nbformat_minor": 2
}
