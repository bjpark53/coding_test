{
 "cells": [
  {
   "cell_type": "markdown",
   "metadata": {},
   "source": [
    "# CodeUp 기초 100제(1051~1075)"
   ]
  },
  {
   "cell_type": "code",
   "execution_count": 4,
   "metadata": {},
   "outputs": [
    {
     "name": "stdout",
     "output_type": "stream",
     "text": [
      "0 -1\n",
      "0\n"
     ]
    }
   ],
   "source": [
    "#1051 : [기초-비교연산] 두 정수 입력받아 비교하기3(설명)\n",
    "a, b = map(int,input().split())\n",
    "print(int(b>=a))"
   ]
  },
  {
   "cell_type": "code",
   "execution_count": 5,
   "metadata": {},
   "outputs": [
    {
     "name": "stdout",
     "output_type": "stream",
     "text": [
      "0 1\n",
      "1\n"
     ]
    }
   ],
   "source": [
    "#1052 : [기초-비교연산] 두 정수 입력받아 비교하기4(설명)\n",
    "a, b = map(int, input().split())\n",
    "print(int(a!=b))"
   ]
  },
  {
   "cell_type": "code",
   "execution_count": 12,
   "metadata": {},
   "outputs": [
    {
     "name": "stdout",
     "output_type": "stream",
     "text": [
      "0\n",
      "1\n"
     ]
    }
   ],
   "source": [
    "#1053-1 : [기초-논리연산] 참 거짓 바꾸기(설명)\n",
    "n = int(input())\n",
    "print(int(n == 0))"
   ]
  },
  {
   "cell_type": "code",
   "execution_count": 14,
   "metadata": {},
   "outputs": [
    {
     "name": "stdout",
     "output_type": "stream",
     "text": [
      "0\n",
      "1\n"
     ]
    }
   ],
   "source": [
    "#1053-2 : [기초-논리연산] 참 거짓 바꾸기(설명) - bool 사용\n",
    "n = int(input())\n",
    "print(int(not bool(n)))"
   ]
  },
  {
   "cell_type": "markdown",
   "metadata": {},
   "source": [
    "bool에서 True와 False를 바꾸고 싶을 때, 앞에 __not__을 붙인다."
   ]
  },
  {
   "cell_type": "code",
   "execution_count": 16,
   "metadata": {},
   "outputs": [
    {
     "name": "stdout",
     "output_type": "stream",
     "text": [
      "1 1\n",
      "1\n"
     ]
    }
   ],
   "source": [
    "#1054 : [기초-논리연산] 둘 다 참일 경우만 참 출력하기(설명)\n",
    "a, b = map(int, input().split())\n",
    "print(int(a==1 and b==1))"
   ]
  },
  {
   "cell_type": "code",
   "execution_count": 23,
   "metadata": {},
   "outputs": [
    {
     "name": "stdout",
     "output_type": "stream",
     "text": [
      "0 1\n",
      "1\n"
     ]
    }
   ],
   "source": [
    "#1055 : [기초-논리연산] 하나라도 참이면 참 출력하기(설명)\n",
    "a, b = map(int, input().split())\n",
    "print(int(a==1 or b==1))"
   ]
  },
  {
   "cell_type": "code",
   "execution_count": 21,
   "metadata": {},
   "outputs": [
    {
     "name": "stdout",
     "output_type": "stream",
     "text": [
      "1 1\n",
      "0\n"
     ]
    }
   ],
   "source": [
    "#1056 : [기초-논리연산] 참/거짓이 서로 다를 때에만 참 출력하기(설명)\n",
    "a, b = map(int, input().split())\n",
    "print(int(a != b))"
   ]
  },
  {
   "cell_type": "code",
   "execution_count": 24,
   "metadata": {},
   "outputs": [
    {
     "name": "stdout",
     "output_type": "stream",
     "text": [
      "0 0\n",
      "1\n"
     ]
    }
   ],
   "source": [
    "#1057 : [기초-논리연산] 참/거짓이 서로 같을 때에만 참 출력하기\n",
    "a, b = map(int, input().split())\n",
    "print(int(a==b))"
   ]
  },
  {
   "cell_type": "code",
   "execution_count": 26,
   "metadata": {},
   "outputs": [
    {
     "name": "stdout",
     "output_type": "stream",
     "text": [
      "0 1\n",
      "0\n"
     ]
    }
   ],
   "source": [
    "#1058 : [기초-논리연산] 둘 다 거짓일 경우만 참 출력하기\n",
    "a, b = map(int, input().split())\n",
    "print(int(a==0 and b==0))"
   ]
  },
  {
   "cell_type": "markdown",
   "metadata": {},
   "source": [
    "__비트단위 논리연산__  \n",
    "__1) ~ : 비트단위 not(비트 연산에서 비트를 뒤집는다.)__  \n",
    "ex) 2 = 0010(2) -> 1101(2) = -3  \n",
    "__2) & : 비트단위 and(비트 단위에서 둘 다 1인 부분만 1로)__  \n",
    "ex) 3 = 0011(2) & 5 = 0101(2) -> 0001(2) = 1  \n",
    "__3) | : 비트단위 or(비트 단위에서 하나라도 1인 부분을 1로)__  \n",
    "ex) 3 = 0011(2) | 5 = 0101(2) -> 0111(2) = 7  \n",
    "__4) ^ : 비트단위 xor(비트 단위에서 서로 다를 때 1, 같을 때 0)__  \n",
    "ex) 3 = 0011(2) ^ 5 = 0101(2) -> 0110(2) = 6  "
   ]
  },
  {
   "cell_type": "code",
   "execution_count": 30,
   "metadata": {},
   "outputs": [
    {
     "name": "stdout",
     "output_type": "stream",
     "text": [
      "2\n",
      "-3\n"
     ]
    }
   ],
   "source": [
    "#1059 : [기초-비트단위논리연산] 비트단위로 NOT 하여 출력하기(설명)\n",
    "n = int(input())\n",
    "print(~n)"
   ]
  },
  {
   "cell_type": "code",
   "execution_count": 31,
   "metadata": {},
   "outputs": [
    {
     "name": "stdout",
     "output_type": "stream",
     "text": [
      "3 5\n",
      "1\n"
     ]
    }
   ],
   "source": [
    "#1060 : [기초-비트단위논리연산] 비트단위로 AND 하여 출력하기(설명)\n",
    "a, b = map(int, input().split())\n",
    "print(a&b)"
   ]
  },
  {
   "cell_type": "code",
   "execution_count": 32,
   "metadata": {},
   "outputs": [
    {
     "name": "stdout",
     "output_type": "stream",
     "text": [
      "3 5\n",
      "7\n"
     ]
    }
   ],
   "source": [
    "#1061 : [기초-비트단위논리연산] 비트단위로 OR 하여 출력하기(설명)\n",
    "a, b = map(int, input().split())\n",
    "print(a|b)"
   ]
  },
  {
   "cell_type": "code",
   "execution_count": 34,
   "metadata": {},
   "outputs": [
    {
     "name": "stdout",
     "output_type": "stream",
     "text": [
      "3 5\n",
      "6\n"
     ]
    }
   ],
   "source": [
    "#1062 : [기초-비트단위논리연산] 비트단위로 XOR 하여 출력하기(설명)\n",
    "a, b = map(int, input().split())\n",
    "print(a^b)"
   ]
  },
  {
   "cell_type": "code",
   "execution_count": 35,
   "metadata": {},
   "outputs": [
    {
     "name": "stdout",
     "output_type": "stream",
     "text": [
      "123 456\n",
      "456\n"
     ]
    }
   ],
   "source": [
    "#1063 : [기초-삼항연산] 두 정수 입력받아 큰 수 출력하기(설명)\n",
    "a, b = map(int, input().split())\n",
    "print(a if a>=b else b)"
   ]
  },
  {
   "cell_type": "code",
   "execution_count": 36,
   "metadata": {},
   "outputs": [
    {
     "name": "stdout",
     "output_type": "stream",
     "text": [
      "3 -1 5\n",
      "-1\n"
     ]
    }
   ],
   "source": [
    "#1064 : [기초-삼항연산] 정수 3개 입력받아 가장 작은 수 출력하기(설명)\n",
    "a, b, c = map(int, input().split())\n",
    "x = a if a<=b else b\n",
    "y = x if x<=c else c\n",
    "print(y)"
   ]
  },
  {
   "cell_type": "code",
   "execution_count": 37,
   "metadata": {},
   "outputs": [
    {
     "name": "stdout",
     "output_type": "stream",
     "text": [
      "1 2 4\n",
      "2\n",
      "4\n"
     ]
    }
   ],
   "source": [
    "#1065 : [기초-조건/선택실행구조] 정수 3개 입력받아 짝수만 출력하기(설명)\n",
    "abc = map(int, input().split())\n",
    "for x in abc:\n",
    "    if x%2==0:\n",
    "        print(x)"
   ]
  },
  {
   "cell_type": "code",
   "execution_count": 38,
   "metadata": {},
   "outputs": [
    {
     "name": "stdout",
     "output_type": "stream",
     "text": [
      "1 2 8\n",
      "odd\n",
      "even\n",
      "even\n"
     ]
    }
   ],
   "source": [
    "#1066 : [기초-조건/선택실행구조] 정수 3개 입력받아 짝/홀 출력하기(설명)\n",
    "abc = map(int, input().split())\n",
    "for x in abc:\n",
    "    if x%2==0:\n",
    "        print('even')\n",
    "    else:\n",
    "        print('odd')"
   ]
  },
  {
   "cell_type": "code",
   "execution_count": 39,
   "metadata": {},
   "outputs": [
    {
     "name": "stdout",
     "output_type": "stream",
     "text": [
      "-2147483648\n",
      "minus\n",
      "even\n"
     ]
    }
   ],
   "source": [
    "#1067 : [기초-조건/선택실행구조] 정수 1개 입력받아 분석하기(설명)\n",
    "n = int(input())\n",
    "if n>=0 :\n",
    "    print('plus')\n",
    "else:\n",
    "    print('minus')\n",
    "if n%2==0:\n",
    "    print('even')\n",
    "else:\n",
    "    print('odd')"
   ]
  },
  {
   "cell_type": "code",
   "execution_count": 40,
   "metadata": {},
   "outputs": [
    {
     "name": "stdout",
     "output_type": "stream",
     "text": [
      "73\n",
      "B\n"
     ]
    }
   ],
   "source": [
    "#1068 : [기초-조건/선택실행구조] 정수 1개 입력받아 평가 출력하기(설명)\n",
    "n = int(input())\n",
    "if n>=90:\n",
    "    print('A')\n",
    "elif n>=70:\n",
    "    print('B')\n",
    "elif n>=40:\n",
    "    print('C')\n",
    "else:\n",
    "    print('D')"
   ]
  },
  {
   "cell_type": "code",
   "execution_count": 41,
   "metadata": {},
   "outputs": [
    {
     "name": "stdout",
     "output_type": "stream",
     "text": [
      "A\n",
      "best!!!\n"
     ]
    }
   ],
   "source": [
    "#1069 : [기초-조건/선택실행구조] 평가 입력받아 다르게 출력하기(설명)\n",
    "grade = input()\n",
    "if grade == 'A':\n",
    "    print('best!!!')\n",
    "elif grade == 'B':\n",
    "    print('good!!')\n",
    "elif grade == 'C':\n",
    "    print('run!')\n",
    "elif grade == 'D':\n",
    "    print('slowly~')\n",
    "else:\n",
    "    print('what?')"
   ]
  },
  {
   "cell_type": "code",
   "execution_count": 42,
   "metadata": {},
   "outputs": [
    {
     "name": "stdout",
     "output_type": "stream",
     "text": [
      "12\n",
      "winter\n"
     ]
    }
   ],
   "source": [
    "#1070 : [기초-조건/선택실행구조] 월 입력받아 계절 출력하기(설명)\n",
    "m = int(input())\n",
    "if m in [12,1,2]:\n",
    "    print('winter')\n",
    "elif m in [3,4,5]:\n",
    "    print('spring')\n",
    "elif m in [6,7,8]:\n",
    "    print('summer')\n",
    "elif m in [9,10,11]:\n",
    "    print('fall')"
   ]
  },
  {
   "cell_type": "code",
   "execution_count": 44,
   "metadata": {},
   "outputs": [
    {
     "name": "stdout",
     "output_type": "stream",
     "text": [
      "7 4 2 3 0 1 5 6 9 10 8\n",
      "7\n",
      "4\n",
      "2\n",
      "3\n"
     ]
    }
   ],
   "source": [
    "#1071 : [기초-반복실행구조] 0 입력될 때까지 무한 출력하기1(설명) - for/if\n",
    "numbers = map(int, input().split())\n",
    "for n in numbers:\n",
    "    if n!=0:\n",
    "        print(n)\n",
    "    else:\n",
    "        break"
   ]
  },
  {
   "cell_type": "code",
   "execution_count": 49,
   "metadata": {},
   "outputs": [
    {
     "name": "stdout",
     "output_type": "stream",
     "text": [
      "5\n",
      "1 2 3 4 5\n",
      "1\n",
      "2\n",
      "3\n",
      "4\n",
      "5\n"
     ]
    }
   ],
   "source": [
    "#1072 : [기초-반복실행구조] 정수 입력받아 계속 출력하기(설명)\n",
    "n = int(input())\n",
    "num = list(map(int, input().split()))\n",
    "for i in range(n):\n",
    "    print(num[i])"
   ]
  },
  {
   "cell_type": "code",
   "execution_count": 51,
   "metadata": {},
   "outputs": [
    {
     "name": "stdout",
     "output_type": "stream",
     "text": [
      "7 4 2 3 0 1 5 6 9 10 8\n",
      "7\n",
      "4\n",
      "2\n",
      "3\n"
     ]
    }
   ],
   "source": [
    "#1073 : [기초-반복실행구조] 0 입력될 때까지 무한 출력하기2(설명) - while\n",
    "num = [int(x) for x in input().split()]\n",
    "i = 0\n",
    "while num[i] != 0:\n",
    "    print(num[i])\n",
    "    i += 1"
   ]
  },
  {
   "cell_type": "code",
   "execution_count": 53,
   "metadata": {},
   "outputs": [
    {
     "name": "stdout",
     "output_type": "stream",
     "text": [
      "5\n",
      "5\n",
      "4\n",
      "3\n",
      "2\n",
      "1\n"
     ]
    }
   ],
   "source": [
    "#1074 : [기초-반복실행구조] 정수 1개 입력받아 카운트다운 출력하기1(설명)\n",
    "n = int(input())\n",
    "while n > 0 :\n",
    "    print(n)\n",
    "    n -= 1"
   ]
  },
  {
   "cell_type": "code",
   "execution_count": 54,
   "metadata": {},
   "outputs": [
    {
     "name": "stdout",
     "output_type": "stream",
     "text": [
      "5\n",
      "4\n",
      "3\n",
      "2\n",
      "1\n",
      "0\n"
     ]
    }
   ],
   "source": [
    "#1075 : [기초-반복실행구조] 정수 1개 입력받아 카운트다운 출력하기2(설명)\n",
    "n = int(input())\n",
    "while n>0:\n",
    "    n -= 1\n",
    "    print(n)"
   ]
  }
 ],
 "metadata": {
  "kernelspec": {
   "display_name": "Python 3",
   "language": "python",
   "name": "python3"
  },
  "language_info": {
   "codemirror_mode": {
    "name": "ipython",
    "version": 3
   },
   "file_extension": ".py",
   "mimetype": "text/x-python",
   "name": "python",
   "nbconvert_exporter": "python",
   "pygments_lexer": "ipython3",
   "version": "3.7.3"
  }
 },
 "nbformat": 4,
 "nbformat_minor": 2
}
