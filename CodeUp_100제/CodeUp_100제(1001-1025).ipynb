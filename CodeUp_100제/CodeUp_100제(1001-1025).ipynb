{
 "cells": [
  {
   "cell_type": "markdown",
   "metadata": {},
   "source": [
    "# CodeUp 기초 100제(1001~1025)"
   ]
  },
  {
   "cell_type": "code",
   "execution_count": 1,
   "metadata": {},
   "outputs": [
    {
     "name": "stdout",
     "output_type": "stream",
     "text": [
      "Hello\n"
     ]
    }
   ],
   "source": [
    "#1001 : [기초-출력] 출력하기01(설명)\n",
    "print('Hello')"
   ]
  },
  {
   "cell_type": "code",
   "execution_count": 2,
   "metadata": {},
   "outputs": [
    {
     "name": "stdout",
     "output_type": "stream",
     "text": [
      "Hello World\n"
     ]
    }
   ],
   "source": [
    "#1002 : [기초-출력] 출력하기02(설명)\n",
    "print('Hello World')"
   ]
  },
  {
   "cell_type": "code",
   "execution_count": 3,
   "metadata": {},
   "outputs": [
    {
     "name": "stdout",
     "output_type": "stream",
     "text": [
      "Hello\n",
      "World\n"
     ]
    }
   ],
   "source": [
    "#1003 : [기초-출력] 출력하기03(설명)\n",
    "print('Hello\\nWorld')"
   ]
  },
  {
   "cell_type": "code",
   "execution_count": 4,
   "metadata": {},
   "outputs": [
    {
     "name": "stdout",
     "output_type": "stream",
     "text": [
      "'Hello'\n"
     ]
    }
   ],
   "source": [
    "#1004 : [기초-출력] 출력하기04(설명)\n",
    "print(\"'Hello'\")"
   ]
  },
  {
   "cell_type": "code",
   "execution_count": 5,
   "metadata": {},
   "outputs": [
    {
     "name": "stdout",
     "output_type": "stream",
     "text": [
      "\"Hello World\"\n"
     ]
    }
   ],
   "source": [
    "#1005 : [기초-출력] 출력하기05(설명)\n",
    "print('\"Hello World\"')"
   ]
  },
  {
   "cell_type": "code",
   "execution_count": 6,
   "metadata": {},
   "outputs": [
    {
     "name": "stdout",
     "output_type": "stream",
     "text": [
      "\"!@#$%^&*()\"\n"
     ]
    }
   ],
   "source": [
    "#1006 : [기초-출력] 출력하기06(설명)\n",
    "print('\"!@#$%^&*()\"')"
   ]
  },
  {
   "cell_type": "code",
   "execution_count": 7,
   "metadata": {},
   "outputs": [
    {
     "name": "stdout",
     "output_type": "stream",
     "text": [
      "\"C:\\Download\\hello.cpp\"\n"
     ]
    }
   ],
   "source": [
    "#1007 : [기초-출력] 출력하기07(설명)\n",
    "print('\"C:\\Download\\hello.cpp\"')"
   ]
  },
  {
   "cell_type": "code",
   "execution_count": 12,
   "metadata": {
    "scrolled": true
   },
   "outputs": [
    {
     "name": "stdout",
     "output_type": "stream",
     "text": [
      "┌┬┐\n",
      "├┼┤\n",
      "└┴┘\n"
     ]
    }
   ],
   "source": [
    "#1008 : [기초-출력] 출력하기08(설명)\n",
    "print('\\u250c\\u252c\\u2510\\n\\u251c\\u253c\\u2524\\n\\u2514\\u2534\\u2518')"
   ]
  },
  {
   "cell_type": "markdown",
   "metadata": {},
   "source": [
    "__input() : 입력받은 값을 받는다.__"
   ]
  },
  {
   "cell_type": "code",
   "execution_count": 16,
   "metadata": {},
   "outputs": [
    {
     "name": "stdout",
     "output_type": "stream",
     "text": [
      "15\n",
      "15\n"
     ]
    }
   ],
   "source": [
    "#1010 : [기초-입출력] 정수 1개 입력받아 그대로 출력하기(설명)\n",
    "a = int(input())\n",
    "print(a)"
   ]
  },
  {
   "cell_type": "code",
   "execution_count": 18,
   "metadata": {},
   "outputs": [
    {
     "name": "stdout",
     "output_type": "stream",
     "text": [
      "abc\n",
      "abc\n"
     ]
    }
   ],
   "source": [
    "#1011 : [기초-입출력] 문자 1개 입력받아 그대로 출력하기(설명)\n",
    "a = str(input())\n",
    "print(a)"
   ]
  },
  {
   "cell_type": "markdown",
   "metadata": {},
   "source": [
    "__숫자형/날짜형 출력 형식 지정__\n",
    "* __'%6f'__ : 소수점 아래 6자리까지 채우기 ex)0.12 -> 0.120000  \n",
    "* __'%.2f'__ : 소수점 아래 2자리까지 출력(반올림) ex)0.199 -> 0.20\n",
    "* __'%4d'__ : 정수의 출력하는 자리수 지정. 부족한 만큼 빈칸\n",
    "* __'%04d'__ : 정수가 4자리가 되도록 앞에 0을 채움 ex)98 -> 0098"
   ]
  },
  {
   "cell_type": "code",
   "execution_count": 66,
   "metadata": {},
   "outputs": [
    {
     "name": "stdout",
     "output_type": "stream",
     "text": [
      "10.38\n",
      "10.380000\n"
     ]
    }
   ],
   "source": [
    "#1012 : [기초-입출력] 실수 1개 입력받아 그대로 출력하기(설명)\n",
    "a = float(input())\n",
    "print('%6f'%a)"
   ]
  },
  {
   "cell_type": "code",
   "execution_count": 22,
   "metadata": {},
   "outputs": [
    {
     "name": "stdout",
     "output_type": "stream",
     "text": [
      "1 2\n",
      "1 2\n"
     ]
    }
   ],
   "source": [
    "#1013 : [기초-입출력] 정수 2개 입력받아 그대로 출력하기(설명)\n",
    "a, b = map(int,input().split())\n",
    "print(a,b)"
   ]
  },
  {
   "cell_type": "markdown",
   "metadata": {},
   "source": [
    "__map(자료형,변수)__ : 변수를 지정한 자료형으로 매핑한다. ex)int, float, str"
   ]
  },
  {
   "cell_type": "code",
   "execution_count": 23,
   "metadata": {},
   "outputs": [
    {
     "name": "stdout",
     "output_type": "stream",
     "text": [
      "A b\n",
      "b A\n"
     ]
    }
   ],
   "source": [
    "#1014 : [기초-입출력] 문자 2개 입력받아 순서 바꿔 출력하기(설명)\n",
    "a, b = input().split()\n",
    "print(b,a)"
   ]
  },
  {
   "cell_type": "code",
   "execution_count": 29,
   "metadata": {},
   "outputs": [
    {
     "name": "stdout",
     "output_type": "stream",
     "text": [
      "1.59254\n",
      "1.59\n"
     ]
    }
   ],
   "source": [
    "#1015 : [기초-입출력] 실수 입력받아 둘째 자리까지 출력하기(설명)\n",
    "a = float(input())\n",
    "print('%.2f'%a)"
   ]
  },
  {
   "cell_type": "code",
   "execution_count": 30,
   "metadata": {},
   "outputs": [
    {
     "name": "stdout",
     "output_type": "stream",
     "text": [
      "125\n",
      "125 125 125\n"
     ]
    }
   ],
   "source": [
    "#1017 : [기초-입출력] 정수 1개 입력받아 3번 출력하기(설명)\n",
    "a = int(input())\n",
    "print(a,a,a)"
   ]
  },
  {
   "cell_type": "code",
   "execution_count": 31,
   "metadata": {},
   "outputs": [
    {
     "name": "stdout",
     "output_type": "stream",
     "text": [
      "3:16\n",
      "3:16\n"
     ]
    }
   ],
   "source": [
    "#1018 : [기초-입출력] 시간 입력받아 그대로 출력하기(설명)\n",
    "a = input()\n",
    "print(a)"
   ]
  },
  {
   "cell_type": "code",
   "execution_count": 40,
   "metadata": {},
   "outputs": [
    {
     "name": "stdout",
     "output_type": "stream",
     "text": [
      "99.1.1\n",
      "0099.01.01\n"
     ]
    }
   ],
   "source": [
    "#1019-1 : [기초-입출력] 연월일 입력받아 그대로 출력하기 - 반복문 사용\n",
    "y, m, d = input().split('.')\n",
    "while len(y)!=4:\n",
    "    y='0'+y\n",
    "if len(m)==1:\n",
    "    m='0'+m\n",
    "if len(d)==1:\n",
    "    d='0'+d\n",
    "date = '.'.join([y,m,d])\n",
    "print(date)"
   ]
  },
  {
   "cell_type": "code",
   "execution_count": 43,
   "metadata": {},
   "outputs": [
    {
     "name": "stdout",
     "output_type": "stream",
     "text": [
      "99.1.1\n",
      "0099.01.01\n"
     ]
    }
   ],
   "source": [
    "#1019-2 : [기초-입출력] 연월일 입력받아 그대로 출력하기 - 숫자 출력 형식 지정\n",
    "y, m, d = map(int, input().split('.'))\n",
    "yyyy = str('%04d'%y)\n",
    "mm = str('%02d'%m)\n",
    "dd = str('%02d'%d)\n",
    "date = '.'.join([yyyy,mm,dd])\n",
    "print(date)"
   ]
  },
  {
   "cell_type": "code",
   "execution_count": 46,
   "metadata": {},
   "outputs": [
    {
     "name": "stdout",
     "output_type": "stream",
     "text": [
      "000907-1121112\n",
      "0009071121112\n"
     ]
    }
   ],
   "source": [
    "#1020 : [기초-입출력] 주민번호 입력받아 형태 바꿔 출력하기\n",
    "a = input()\n",
    "print(a.replace('-', ''))"
   ]
  },
  {
   "cell_type": "markdown",
   "metadata": {},
   "source": [
    "__<문자열 유용한 메서드>__\n",
    "* __문자열.replace(바꾸기 전, 바꾼 후)__ : 문자열 바꾸기\n",
    "* __'구분자'.join(문자열로 구성된 리스트)__ : 문자열 합치기\n",
    "* __문자열.split(구분자)__ : 문자열 나눠 리스트에 담기"
   ]
  },
  {
   "cell_type": "code",
   "execution_count": 48,
   "metadata": {},
   "outputs": [
    {
     "name": "stdout",
     "output_type": "stream",
     "text": [
      "Informatics\n",
      "Informatics\n"
     ]
    }
   ],
   "source": [
    "#1021 : [기초-입출력] 단어 1개 입력받아 그대로 출력하기(설명)\n",
    "a = str(input())\n",
    "print(a)"
   ]
  },
  {
   "cell_type": "code",
   "execution_count": 49,
   "metadata": {},
   "outputs": [
    {
     "name": "stdout",
     "output_type": "stream",
     "text": [
      "Programming is very fun!!\n",
      "Programming is very fun!!\n"
     ]
    }
   ],
   "source": [
    "#1022 : [기초-입출력] 문장 1개 입력받아 그대로 출력하기(설명)\n",
    "a = str(input())\n",
    "print(a)"
   ]
  },
  {
   "cell_type": "markdown",
   "metadata": {},
   "source": [
    "__print 다중 변수 출력 시 구분자 지정__  \n",
    "print(a,b,sep='\\n') : 줄 변경으로 구분\n"
   ]
  },
  {
   "cell_type": "code",
   "execution_count": 67,
   "metadata": {},
   "outputs": [
    {
     "name": "stdout",
     "output_type": "stream",
     "text": [
      "1.414213\n",
      "1\n",
      "414213\n"
     ]
    }
   ],
   "source": [
    "#1023 : [기초-입출력] 실수 1개 입력받아 부분별로 출력하기(설명)\n",
    "a,b = input().split('.')\n",
    "print(a,b,sep='\\n')"
   ]
  },
  {
   "cell_type": "code",
   "execution_count": 55,
   "metadata": {},
   "outputs": [
    {
     "name": "stdout",
     "output_type": "stream",
     "text": [
      "Boy\n",
      "'B'\n",
      "'o'\n",
      "'y'\n"
     ]
    }
   ],
   "source": [
    "#1024 : [기초-입출력] 단어 1개 입력받아 나누어 출력하기(설명)\n",
    "word = input()\n",
    "for x in word:\n",
    "    print(\"'\"+x+\"'\")"
   ]
  },
  {
   "cell_type": "markdown",
   "metadata": {},
   "source": [
    "* print에서 ,로 연결하면 공백으로 연결\n",
    "* print에서 +로 연결하면 공백없이 연결"
   ]
  },
  {
   "cell_type": "code",
   "execution_count": 56,
   "metadata": {},
   "outputs": [
    {
     "name": "stdout",
     "output_type": "stream",
     "text": [
      "75254\n",
      "[70000]\n",
      "[5000]\n",
      "[200]\n",
      "[50]\n",
      "[4]\n"
     ]
    }
   ],
   "source": [
    "#1025 : [기초-입출력] 정수 1개 입력받아 나누어 출력하기(설명)\n",
    "a = input()\n",
    "i = 4\n",
    "for x in a:\n",
    "    zeros = '0'*i\n",
    "    print('['+x+zeros+']')\n",
    "    i-=1"
   ]
  }
 ],
 "metadata": {
  "kernelspec": {
   "display_name": "Python 3",
   "language": "python",
   "name": "python3"
  },
  "language_info": {
   "codemirror_mode": {
    "name": "ipython",
    "version": 3
   },
   "file_extension": ".py",
   "mimetype": "text/x-python",
   "name": "python",
   "nbconvert_exporter": "python",
   "pygments_lexer": "ipython3",
   "version": "3.7.3"
  }
 },
 "nbformat": 4,
 "nbformat_minor": 2
}
